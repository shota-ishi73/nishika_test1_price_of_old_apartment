{
 "cells": [
  {
   "cell_type": "markdown",
   "id": "0b06020f-a2fe-40a6-9fef-baaf52fcacce",
   "metadata": {},
   "source": [
    "# 探索的データ分析【EDA】"
   ]
  },
  {
   "cell_type": "code",
   "execution_count": 2,
   "id": "688be3a2-55b4-4816-b980-8d90279a25c3",
   "metadata": {},
   "outputs": [],
   "source": [
    "import glob\n",
    "import pandas as pd\n",
    "import numpy as np\n",
    "import matplotlib.pyplot as plt\n",
    "import seaborn as sns\n",
    "%matplotlib inline"
   ]
  },
  {
   "cell_type": "code",
   "execution_count": 3,
   "id": "11f33cf2-4742-4a2b-9c93-3e81ec41df17",
   "metadata": {},
   "outputs": [],
   "source": [
    "files = glob.glob(\"train/*.csv\")"
   ]
  },
  {
   "cell_type": "code",
   "execution_count": 8,
   "id": "49af5fe5-d012-4918-bfea-fb922f8687e0",
   "metadata": {},
   "outputs": [
    {
     "name": "stderr",
     "output_type": "stream",
     "text": [
      "/Users/shota/.pyenv/versions/3.9.4/lib/python3.9/site-packages/IPython/core/interactiveshell.py:3169: DtypeWarning: Columns (10) have mixed types.Specify dtype option on import or set low_memory=False.\n",
      "  has_raised = await self.run_ast_nodes(code_ast.body, cell_name,\n"
     ]
    }
   ],
   "source": [
    "data_list = []\n",
    "for file in files:\n",
    "    data_list.append(pd.read_csv(file, index_col=0))"
   ]
  },
  {
   "cell_type": "code",
   "execution_count": 11,
   "id": "cc16b657-3102-46c9-9816-46d019a01433",
   "metadata": {},
   "outputs": [],
   "source": [
    "df = pd.concat(data_list)"
   ]
  },
  {
   "cell_type": "code",
   "execution_count": 12,
   "id": "6bc39f89-7020-4afc-a79a-b2ee5bf9e69c",
   "metadata": {},
   "outputs": [
    {
     "data": {
      "text/plain": [
       "(637351, 27)"
      ]
     },
     "execution_count": 12,
     "metadata": {},
     "output_type": "execute_result"
    }
   ],
   "source": [
    "df.shape　#行数と列数を表示"
   ]
  },
  {
   "cell_type": "code",
   "execution_count": 14,
   "id": "c660bf60-468d-4e7d-9c14-faaa0e1cfac1",
   "metadata": {},
   "outputs": [
    {
     "name": "stdout",
     "output_type": "stream",
     "text": [
      "<class 'pandas.core.frame.DataFrame'>\n",
      "Int64Index: 637351 entries, 40108844 to 12009989\n",
      "Data columns (total 27 columns):\n",
      " #   Column        Non-Null Count   Dtype  \n",
      "---  ------        --------------   -----  \n",
      " 0   種類            637351 non-null  object \n",
      " 1   地域            0 non-null       float64\n",
      " 2   市区町村コード       637351 non-null  int64  \n",
      " 3   都道府県名         637351 non-null  object \n",
      " 4   市区町村名         637351 non-null  object \n",
      " 5   地区名           637060 non-null  object \n",
      " 6   最寄駅：名称        634732 non-null  object \n",
      " 7   最寄駅：距離（分）     614306 non-null  object \n",
      " 8   間取り           615609 non-null  object \n",
      " 9   面積（㎡）         637351 non-null  object \n",
      " 10  土地の形状         0 non-null       float64\n",
      " 11  間口            0 non-null       float64\n",
      " 12  延床面積（㎡）       0 non-null       float64\n",
      " 13  建築年           619117 non-null  object \n",
      " 14  建物の構造         623423 non-null  object \n",
      " 15  用途            591214 non-null  object \n",
      " 16  今後の利用目的       275091 non-null  object \n",
      " 17  前面道路：方位       0 non-null       float64\n",
      " 18  前面道路：種類       0 non-null       float64\n",
      " 19  前面道路：幅員（ｍ）    0 non-null       float64\n",
      " 20  都市計画          618786 non-null  object \n",
      " 21  建ぺい率（％）       614848 non-null  float64\n",
      " 22  容積率（％）        614848 non-null  float64\n",
      " 23  取引時点          637351 non-null  object \n",
      " 24  改装            580431 non-null  object \n",
      " 25  取引の事情等        18275 non-null   object \n",
      " 26  取引価格（総額）_log  637351 non-null  float64\n",
      "dtypes: float64(10), int64(1), object(16)\n",
      "memory usage: 136.2+ MB\n"
     ]
    }
   ],
   "source": [
    "df.info() #何のカラムが入っているか表示"
   ]
  },
  {
   "cell_type": "code",
   "execution_count": 19,
   "id": "25d8f4d5-2674-43da-9d13-be64c036f5d3",
   "metadata": {},
   "outputs": [],
   "source": [
    "nonnull_list = []\n",
    "for col in df.columns:\n",
    "    nonnull = df[col].count()\n",
    "    if nonnull == 0:\n",
    "        nonnull_list.append(col)\n",
    "df = df.drop(nonnull_list, axis=1) #特定のカラムを削除する。"
   ]
  },
  {
   "cell_type": "code",
   "execution_count": 23,
   "id": "3e26190e-d64e-4360-bd11-d448997b865f",
   "metadata": {},
   "outputs": [
    {
     "data": {
      "text/plain": [
       "大田区       12269\n",
       "江東区       11591\n",
       "世田谷区      10747\n",
       "港区        10580\n",
       "新宿区       10055\n",
       "          ...  \n",
       "新潟市西蒲区        1\n",
       "羽島郡岐南町        1\n",
       "大川市           1\n",
       "田川郡糸田町        1\n",
       "粕屋郡宇美町        1\n",
       "Name: 市区町村名, Length: 618, dtype: int64"
      ]
     },
     "execution_count": 23,
     "metadata": {},
     "output_type": "execute_result"
    }
   ],
   "source": [
    "df[\"市区町村名\"].value_counts()\n",
    "#市区町村名市区町村コード"
   ]
  },
  {
   "cell_type": "code",
   "execution_count": 24,
   "id": "37ad122a-a3fe-4c5c-bbe1-20304069278f",
   "metadata": {},
   "outputs": [],
   "source": [
    "df = df.drop(\"市区町村名\", axis=1)"
   ]
  },
  {
   "cell_type": "code",
   "execution_count": 27,
   "id": "9facbd3f-2ba7-42c6-9eb7-7aebea8fd4e4",
   "metadata": {},
   "outputs": [
    {
     "data": {
      "text/html": [
       "<div>\n",
       "<style scoped>\n",
       "    .dataframe tbody tr th:only-of-type {\n",
       "        vertical-align: middle;\n",
       "    }\n",
       "\n",
       "    .dataframe tbody tr th {\n",
       "        vertical-align: top;\n",
       "    }\n",
       "\n",
       "    .dataframe thead th {\n",
       "        text-align: right;\n",
       "    }\n",
       "</style>\n",
       "<table border=\"1\" class=\"dataframe\">\n",
       "  <thead>\n",
       "    <tr style=\"text-align: right;\">\n",
       "      <th></th>\n",
       "      <th>種類</th>\n",
       "      <th>市区町村コード</th>\n",
       "      <th>都道府県名</th>\n",
       "      <th>地区名</th>\n",
       "      <th>最寄駅：名称</th>\n",
       "      <th>最寄駅：距離（分）</th>\n",
       "      <th>間取り</th>\n",
       "      <th>面積（㎡）</th>\n",
       "      <th>建築年</th>\n",
       "      <th>建物の構造</th>\n",
       "      <th>用途</th>\n",
       "      <th>今後の利用目的</th>\n",
       "      <th>都市計画</th>\n",
       "      <th>建ぺい率（％）</th>\n",
       "      <th>容積率（％）</th>\n",
       "      <th>取引時点</th>\n",
       "      <th>改装</th>\n",
       "      <th>取引の事情等</th>\n",
       "      <th>取引価格（総額）_log</th>\n",
       "    </tr>\n",
       "  </thead>\n",
       "  <tbody>\n",
       "    <tr>\n",
       "      <th>count</th>\n",
       "      <td>637351</td>\n",
       "      <td>637351</td>\n",
       "      <td>637351</td>\n",
       "      <td>637351</td>\n",
       "      <td>637351</td>\n",
       "      <td>637351</td>\n",
       "      <td>637351</td>\n",
       "      <td>637351</td>\n",
       "      <td>637351</td>\n",
       "      <td>637351</td>\n",
       "      <td>637351</td>\n",
       "      <td>637351</td>\n",
       "      <td>637351</td>\n",
       "      <td>637351</td>\n",
       "      <td>637351</td>\n",
       "      <td>637351</td>\n",
       "      <td>637351</td>\n",
       "      <td>637351</td>\n",
       "      <td>637351</td>\n",
       "    </tr>\n",
       "    <tr>\n",
       "      <th>unique</th>\n",
       "      <td>1</td>\n",
       "      <td>618</td>\n",
       "      <td>47</td>\n",
       "      <td>12047</td>\n",
       "      <td>3832</td>\n",
       "      <td>35</td>\n",
       "      <td>64</td>\n",
       "      <td>114</td>\n",
       "      <td>77</td>\n",
       "      <td>13</td>\n",
       "      <td>23</td>\n",
       "      <td>5</td>\n",
       "      <td>17</td>\n",
       "      <td>7</td>\n",
       "      <td>18</td>\n",
       "      <td>58</td>\n",
       "      <td>3</td>\n",
       "      <td>10</td>\n",
       "      <td>380</td>\n",
       "    </tr>\n",
       "    <tr>\n",
       "      <th>top</th>\n",
       "      <td>中古マンション等</td>\n",
       "      <td>13111</td>\n",
       "      <td>東京都</td>\n",
       "      <td>本町</td>\n",
       "      <td>nan</td>\n",
       "      <td>6</td>\n",
       "      <td>３ＬＤＫ</td>\n",
       "      <td>70</td>\n",
       "      <td>平成3年</td>\n",
       "      <td>ＲＣ</td>\n",
       "      <td>住宅</td>\n",
       "      <td>nan</td>\n",
       "      <td>商業地域</td>\n",
       "      <td>60.0</td>\n",
       "      <td>200.0</td>\n",
       "      <td>2014年第１四半期</td>\n",
       "      <td>未改装</td>\n",
       "      <td>nan</td>\n",
       "      <td>7.176091259055681</td>\n",
       "    </tr>\n",
       "    <tr>\n",
       "      <th>freq</th>\n",
       "      <td>637351</td>\n",
       "      <td>12269</td>\n",
       "      <td>190524</td>\n",
       "      <td>5267</td>\n",
       "      <td>2619</td>\n",
       "      <td>50928</td>\n",
       "      <td>272449</td>\n",
       "      <td>83443</td>\n",
       "      <td>21982</td>\n",
       "      <td>431050</td>\n",
       "      <td>583722</td>\n",
       "      <td>362260</td>\n",
       "      <td>172628</td>\n",
       "      <td>349347</td>\n",
       "      <td>293388</td>\n",
       "      <td>13561</td>\n",
       "      <td>419268</td>\n",
       "      <td>619076</td>\n",
       "      <td>20996</td>\n",
       "    </tr>\n",
       "  </tbody>\n",
       "</table>\n",
       "</div>"
      ],
      "text/plain": [
       "              種類 市区町村コード   都道府県名     地区名  最寄駅：名称 最寄駅：距離（分）     間取り   面積（㎡）  \\\n",
       "count     637351  637351  637351  637351  637351    637351  637351  637351   \n",
       "unique         1     618      47   12047    3832        35      64     114   \n",
       "top     中古マンション等   13111     東京都      本町     nan         6    ３ＬＤＫ      70   \n",
       "freq      637351   12269  190524    5267    2619     50928  272449   83443   \n",
       "\n",
       "           建築年   建物の構造      用途 今後の利用目的    都市計画 建ぺい率（％）  容積率（％）        取引時点  \\\n",
       "count   637351  637351  637351  637351  637351  637351  637351      637351   \n",
       "unique      77      13      23       5      17       7      18          58   \n",
       "top       平成3年      ＲＣ      住宅     nan    商業地域    60.0   200.0  2014年第１四半期   \n",
       "freq     21982  431050  583722  362260  172628  349347  293388       13561   \n",
       "\n",
       "            改装  取引の事情等       取引価格（総額）_log  \n",
       "count   637351  637351             637351  \n",
       "unique       3      10                380  \n",
       "top        未改装     nan  7.176091259055681  \n",
       "freq    419268  619076              20996  "
      ]
     },
     "execution_count": 27,
     "metadata": {},
     "output_type": "execute_result"
    }
   ],
   "source": [
    "df.astype(\"str\").describe()"
   ]
  },
  {
   "cell_type": "code",
   "execution_count": 28,
   "id": "1d8d6fa7-2673-4b60-b545-eb9de959244d",
   "metadata": {},
   "outputs": [],
   "source": [
    "df = df.drop(\"種類\", axis=1)"
   ]
  },
  {
   "cell_type": "code",
   "execution_count": 30,
   "id": "7995a26f-5fc9-41b3-be20-4acb7f7e5998",
   "metadata": {},
   "outputs": [
    {
     "name": "stdout",
     "output_type": "stream",
     "text": [
      "<class 'pandas.core.frame.DataFrame'>\n",
      "Int64Index: 637351 entries, 40108844 to 12009989\n",
      "Data columns (total 18 columns):\n",
      " #   Column        Non-Null Count   Dtype  \n",
      "---  ------        --------------   -----  \n",
      " 0   市区町村コード       637351 non-null  int64  \n",
      " 1   都道府県名         637351 non-null  object \n",
      " 2   地区名           637060 non-null  object \n",
      " 3   最寄駅：名称        634732 non-null  object \n",
      " 4   最寄駅：距離（分）     614306 non-null  object \n",
      " 5   間取り           615609 non-null  object \n",
      " 6   面積（㎡）         637351 non-null  object \n",
      " 7   建築年           619117 non-null  object \n",
      " 8   建物の構造         623423 non-null  object \n",
      " 9   用途            591214 non-null  object \n",
      " 10  今後の利用目的       275091 non-null  object \n",
      " 11  都市計画          618786 non-null  object \n",
      " 12  建ぺい率（％）       614848 non-null  float64\n",
      " 13  容積率（％）        614848 non-null  float64\n",
      " 14  取引時点          637351 non-null  object \n",
      " 15  改装            580431 non-null  object \n",
      " 16  取引の事情等        18275 non-null   object \n",
      " 17  取引価格（総額）_log  637351 non-null  float64\n",
      "dtypes: float64(3), int64(1), object(14)\n",
      "memory usage: 92.4+ MB\n"
     ]
    }
   ],
   "source": [
    "df.info()"
   ]
  },
  {
   "cell_type": "code",
   "execution_count": 32,
   "id": "da9eb4fe-d913-49b2-8a31-47ab550ff7cd",
   "metadata": {},
   "outputs": [
    {
     "data": {
      "text/plain": [
       "6          50928\n",
       "4          48883\n",
       "5          45337\n",
       "8          44277\n",
       "3          42880\n",
       "9          38379\n",
       "7          32369\n",
       "30分?60分    31999\n",
       "10         31572\n",
       "11         30625\n",
       "2          27100\n",
       "13         22934\n",
       "1          19746\n",
       "14         18759\n",
       "15         18552\n",
       "12         15068\n",
       "16         14354\n",
       "18         11651\n",
       "19         10533\n",
       "20          8910\n",
       "21          7163\n",
       "23          6663\n",
       "25          6169\n",
       "24          4884\n",
       "28          4133\n",
       "26          3996\n",
       "0           3704\n",
       "1H?1H30     3624\n",
       "29          3587\n",
       "17          2515\n",
       "22          1082\n",
       "2H?          826\n",
       "1H30?2H      692\n",
       "27           412\n",
       "Name: 最寄駅：距離（分）, dtype: int64"
      ]
     },
     "execution_count": 32,
     "metadata": {},
     "output_type": "execute_result"
    }
   ],
   "source": [
    "pd.set_option(\"display.max_rows\", 500)\n",
    "df[\"最寄駅：距離（分）\"].value_counts()"
   ]
  },
  {
   "cell_type": "code",
   "execution_count": 34,
   "id": "b6b9494f-9f22-4919-ac98-8dcfa5a54c32",
   "metadata": {},
   "outputs": [],
   "source": [
    "df_temp = df[\"最寄駅：距離（分）\"].replace(\"1H?1H30\", 75)"
   ]
  },
  {
   "cell_type": "code",
   "execution_count": 36,
   "id": "c0fa3f89-725b-449a-8779-eb818f599559",
   "metadata": {},
   "outputs": [],
   "source": [
    "dis = {\n",
    "      \"30分?60分\": 45,\n",
    "      \"1H?1H30\": 75,\n",
    "      \"2H?\": 120,\n",
    "      \"1H30?2H\": 105\n",
    "}"
   ]
  },
  {
   "cell_type": "code",
   "execution_count": 41,
   "id": "f70ece6d-87e2-4245-a21c-a8ab9a712df1",
   "metadata": {},
   "outputs": [],
   "source": [
    "df[\"最寄駅：距離（分）\"] = df[\"最寄駅：距離（分）\"].replace(dis).astype(float)"
   ]
  },
  {
   "cell_type": "code",
   "execution_count": 42,
   "id": "f794207b-b0d8-47e3-b945-1742393bfbdf",
   "metadata": {},
   "outputs": [
    {
     "data": {
      "text/plain": [
       "6.0      50928\n",
       "4.0      48883\n",
       "5.0      45337\n",
       "8.0      44277\n",
       "3.0      42880\n",
       "9.0      38379\n",
       "7.0      32369\n",
       "45.0     31999\n",
       "10.0     31572\n",
       "11.0     30625\n",
       "2.0      27100\n",
       "13.0     22934\n",
       "1.0      19746\n",
       "14.0     18759\n",
       "15.0     18552\n",
       "12.0     15068\n",
       "16.0     14354\n",
       "18.0     11651\n",
       "19.0     10533\n",
       "20.0      8910\n",
       "21.0      7163\n",
       "23.0      6663\n",
       "25.0      6169\n",
       "24.0      4884\n",
       "28.0      4133\n",
       "26.0      3996\n",
       "0.0       3704\n",
       "75.0      3624\n",
       "29.0      3587\n",
       "17.0      2515\n",
       "22.0      1082\n",
       "120.0      826\n",
       "105.0      692\n",
       "27.0       412\n",
       "Name: 最寄駅：距離（分）, dtype: int64"
      ]
     },
     "execution_count": 42,
     "metadata": {},
     "output_type": "execute_result"
    }
   ],
   "source": [
    "df[\"最寄駅：距離（分）\"].value_counts()"
   ]
  },
  {
   "cell_type": "code",
   "execution_count": 44,
   "id": "683cf49f-e172-4c88-8b7e-c9975f2dc80c",
   "metadata": {},
   "outputs": [
    {
     "data": {
      "text/plain": [
       "70         70301\n",
       "65         65176\n",
       "60         51968\n",
       "75         47362\n",
       "20         40770\n",
       "55         39149\n",
       "80         32482\n",
       "50         27629\n",
       "15         25113\n",
       "85         19604\n",
       "25         18841\n",
       "45         17514\n",
       "70         13142\n",
       "65         13113\n",
       "90         12485\n",
       "40         12221\n",
       "60         11289\n",
       "20         11258\n",
       "30          9880\n",
       "35          9482\n",
       "75          9282\n",
       "95          9121\n",
       "55          8035\n",
       "80          7090\n",
       "15          5740\n",
       "25          5654\n",
       "50          5448\n",
       "85          4530\n",
       "100         4501\n",
       "45          3147\n",
       "90          2889\n",
       "40          2785\n",
       "105         2594\n",
       "30          2548\n",
       "35          2174\n",
       "95          1887\n",
       "110         1625\n",
       "115         1176\n",
       "10          1003\n",
       "100          925\n",
       "120          806\n",
       "105          581\n",
       "125          562\n",
       "130          405\n",
       "110          394\n",
       "10           310\n",
       "115          308\n",
       "135          300\n",
       "145          215\n",
       "140          203\n",
       "120          193\n",
       "125          162\n",
       "150          145\n",
       "130          141\n",
       "155          131\n",
       "135           98\n",
       "160           91\n",
       "165           79\n",
       "180           77\n",
       "140           73\n",
       "145           72\n",
       "170           71\n",
       "190           54\n",
       "185           53\n",
       "175           44\n",
       "150           44\n",
       "210           43\n",
       "230           42\n",
       "200           39\n",
       "160           38\n",
       "155           36\n",
       "195           36\n",
       "220           30\n",
       "170           27\n",
       "180           27\n",
       "240           22\n",
       "250           22\n",
       "260           21\n",
       "270           20\n",
       "290           16\n",
       "185           16\n",
       "190           15\n",
       "165           14\n",
       "175           12\n",
       "210           12\n",
       "340           11\n",
       "330           10\n",
       "390            9\n",
       "310            8\n",
       "200            8\n",
       "370            8\n",
       "195            8\n",
       "450            7\n",
       "280            7\n",
       "2000㎡以上        7\n",
       "350            7\n",
       "360            7\n",
       "480            7\n",
       "320            7\n",
       "440            7\n",
       "220            6\n",
       "460            6\n",
       "1000           6\n",
       "500            5\n",
       "290            5\n",
       "320            5\n",
       "300            5\n",
       "760            4\n",
       "310            4\n",
       "380            4\n",
       "680            4\n",
       "250            4\n",
       "300            3\n",
       "230            3\n",
       "470            3\n",
       "700            3\n",
       "270            3\n",
       "970            3\n",
       "630            3\n",
       "690            3\n",
       "860            3\n",
       "410            3\n",
       "710            3\n",
       "650            3\n",
       "590            3\n",
       "490            3\n",
       "730            3\n",
       "360            3\n",
       "260            3\n",
       "580            2\n",
       "600            2\n",
       "340            2\n",
       "390            2\n",
       "660            2\n",
       "450            2\n",
       "240            2\n",
       "670            2\n",
       "470            2\n",
       "560            2\n",
       "590            2\n",
       "1300           2\n",
       "770            2\n",
       "520            2\n",
       "650            2\n",
       "510            2\n",
       "410            2\n",
       "400            2\n",
       "520            2\n",
       "620            2\n",
       "420            2\n",
       "400            2\n",
       "1100           2\n",
       "430            2\n",
       "1200           2\n",
       "500            1\n",
       "730            1\n",
       "370            1\n",
       "490            1\n",
       "330            1\n",
       "980            1\n",
       "1500           1\n",
       "830            1\n",
       "820            1\n",
       "990            1\n",
       "820            1\n",
       "510            1\n",
       "530            1\n",
       "540            1\n",
       "550            1\n",
       "570            1\n",
       "610            1\n",
       "630            1\n",
       "720            1\n",
       "740            1\n",
       "780            1\n",
       "790            1\n",
       "800            1\n",
       "830            1\n",
       "890            1\n",
       "900            1\n",
       "940            1\n",
       "960            1\n",
       "1400           1\n",
       "1500           1\n",
       "280            1\n",
       "350            1\n",
       "760            1\n",
       "900            1\n",
       "480            1\n",
       "440            1\n",
       "660            1\n",
       "710            1\n",
       "740            1\n",
       "560            1\n",
       "780            1\n",
       "Name: 面積（㎡）, dtype: int64"
      ]
     },
     "execution_count": 44,
     "metadata": {},
     "output_type": "execute_result"
    }
   ],
   "source": [
    "df[\"面積（㎡）\"].value_counts()"
   ]
  },
  {
   "cell_type": "code",
   "execution_count": 45,
   "id": "02db7fcd-20d5-438a-99fb-977750973fed",
   "metadata": {},
   "outputs": [],
   "source": [
    "df[\"面積（㎡）\"] = df[\"面積（㎡）\"].replace(\"2000㎡以上\", 2000).astype(float)"
   ]
  },
  {
   "cell_type": "code",
   "execution_count": 46,
   "id": "01cbde81-caa1-4f64-8d12-2f3ec97d7f85",
   "metadata": {},
   "outputs": [
    {
     "data": {
      "text/plain": [
       "70.0      83443\n",
       "65.0      78289\n",
       "60.0      63257\n",
       "75.0      56644\n",
       "20.0      52028\n",
       "55.0      47184\n",
       "80.0      39572\n",
       "50.0      33077\n",
       "15.0      30853\n",
       "25.0      24495\n",
       "85.0      24134\n",
       "45.0      20661\n",
       "90.0      15374\n",
       "40.0      15006\n",
       "30.0      12428\n",
       "35.0      11656\n",
       "95.0      11008\n",
       "100.0      5426\n",
       "105.0      3175\n",
       "110.0      2019\n",
       "115.0      1484\n",
       "10.0       1313\n",
       "120.0       999\n",
       "125.0       724\n",
       "130.0       546\n",
       "135.0       398\n",
       "145.0       287\n",
       "140.0       276\n",
       "150.0       189\n",
       "155.0       167\n",
       "160.0       129\n",
       "180.0       104\n",
       "170.0        98\n",
       "165.0        93\n",
       "185.0        69\n",
       "190.0        69\n",
       "175.0        56\n",
       "210.0        55\n",
       "200.0        47\n",
       "230.0        45\n",
       "195.0        44\n",
       "220.0        36\n",
       "250.0        26\n",
       "240.0        24\n",
       "260.0        24\n",
       "270.0        23\n",
       "290.0        21\n",
       "340.0        13\n",
       "320.0        12\n",
       "310.0        12\n",
       "330.0        11\n",
       "390.0        11\n",
       "360.0        10\n",
       "450.0         9\n",
       "370.0         9\n",
       "440.0         8\n",
       "280.0         8\n",
       "350.0         8\n",
       "300.0         8\n",
       "480.0         8\n",
       "2000.0        7\n",
       "500.0         6\n",
       "1000.0        6\n",
       "460.0         6\n",
       "650.0         5\n",
       "470.0         5\n",
       "590.0         5\n",
       "410.0         5\n",
       "760.0         5\n",
       "490.0         4\n",
       "380.0         4\n",
       "680.0         4\n",
       "630.0         4\n",
       "400.0         4\n",
       "710.0         4\n",
       "520.0         4\n",
       "730.0         4\n",
       "700.0         3\n",
       "660.0         3\n",
       "970.0         3\n",
       "690.0         3\n",
       "860.0         3\n",
       "510.0         3\n",
       "560.0         3\n",
       "1100.0        2\n",
       "770.0         2\n",
       "600.0         2\n",
       "1300.0        2\n",
       "620.0         2\n",
       "830.0         2\n",
       "820.0         2\n",
       "780.0         2\n",
       "1500.0        2\n",
       "900.0         2\n",
       "740.0         2\n",
       "580.0         2\n",
       "430.0         2\n",
       "670.0         2\n",
       "420.0         2\n",
       "1200.0        2\n",
       "570.0         1\n",
       "790.0         1\n",
       "1400.0        1\n",
       "540.0         1\n",
       "960.0         1\n",
       "980.0         1\n",
       "940.0         1\n",
       "990.0         1\n",
       "720.0         1\n",
       "530.0         1\n",
       "550.0         1\n",
       "890.0         1\n",
       "610.0         1\n",
       "800.0         1\n",
       "Name: 面積（㎡）, dtype: int64"
      ]
     },
     "execution_count": 46,
     "metadata": {},
     "output_type": "execute_result"
    }
   ],
   "source": [
    "df[\"面積（㎡）\"].value_counts()"
   ]
  },
  {
   "cell_type": "code",
   "execution_count": 54,
   "id": "9504be13-e076-4466-8fcb-34929c70588a",
   "metadata": {},
   "outputs": [
    {
     "data": {
      "text/plain": [
       "'3'"
      ]
     },
     "execution_count": 54,
     "metadata": {},
     "output_type": "execute_result"
    }
   ],
   "source": [
    "df[\"建築年\"].value_counts().keys()[0].split(\"平成\")[1].split(\"年\")[0]"
   ]
  },
  {
   "cell_type": "code",
   "execution_count": 56,
   "id": "a58b7c46-1eba-4757-98af-ba11291b426d",
   "metadata": {},
   "outputs": [],
   "source": [
    "y_list = {}\n",
    "for i in df[\"建築年\"].value_counts().keys():\n",
    "    if \"令和\" in i:\n",
    "        num = float(i.split(\"令和\")[1].split(\"年\")[0])\n",
    "        year = 3 - num\n",
    "    if \"平成\" in i:\n",
    "        num = float(i.split(\"平成\")[1].split(\"年\")[0])\n",
    "        year = 33 - num\n",
    "    if \"昭和\" in i:\n",
    "        num = float(i.split(\"昭和\")[1].split(\"年\")[0])\n",
    "        year = 96 - num\n",
    "    y_list[i] = year\n",
    "df[\"建築年\"] = df[\"建築年\"].replace(y_list)"
   ]
  },
  {
   "cell_type": "code",
   "execution_count": 59,
   "id": "7e1d9033-9320-47ef-83a7-f9318834bd27",
   "metadata": {},
   "outputs": [
    {
     "data": {
      "text/plain": [
       "ID\n",
       "40108844    17.0\n",
       "40001245    28.0\n",
       "40068753    24.0\n",
       "40009332    20.0\n",
       "40030654    11.0\n",
       "            ... \n",
       "12096286    40.0\n",
       "12171266     NaN\n",
       "12158761    22.0\n",
       "12098307    39.0\n",
       "12009989    45.0\n",
       "Name: 建築年, Length: 637351, dtype: float64"
      ]
     },
     "execution_count": 59,
     "metadata": {},
     "output_type": "execute_result"
    }
   ],
   "source": [
    "df[\"建築年\"]"
   ]
  },
  {
   "cell_type": "code",
   "execution_count": 67,
   "id": "46aab031-85ea-4e9f-b3e1-57d2e6a2b7f5",
   "metadata": {},
   "outputs": [],
   "source": [
    "year = {\n",
    "    \"年第１四半期\": \".25\",\n",
    "    \"年第２四半期\": \".5\",\n",
    "    \"年第３四半期\": \".75\",\n",
    "    \"年第４四半期\": \".99\",\n",
    "}\n",
    "year_list = {}\n",
    "for i in df[\"取引時点\"].value_counts().keys():\n",
    "    for k, j in year.items():\n",
    "        if k in i:\n",
    "            year_rep = i.replace(k,j)\n",
    "    year_list[i] = year_rep\n",
    "\n",
    "df[\"取引時点\"] = df[\"取引時点\"].replace(year_list).astype(float)"
   ]
  },
  {
   "cell_type": "code",
   "execution_count": 68,
   "id": "f5033850-06cb-458d-b396-8b6b6d11bafc",
   "metadata": {},
   "outputs": [
    {
     "data": {
      "text/plain": [
       "ID\n",
       "40108844    2012.25\n",
       "40001245    2015.99\n",
       "40068753    2010.25\n",
       "40009332    2018.25\n",
       "40030654    2019.50\n",
       "             ...   \n",
       "12096286    2009.50\n",
       "12171266    2013.25\n",
       "12158761    2008.25\n",
       "12098307    2013.75\n",
       "12009989    2018.75\n",
       "Name: 取引時点, Length: 637351, dtype: float64"
      ]
     },
     "execution_count": 68,
     "metadata": {},
     "output_type": "execute_result"
    }
   ],
   "source": [
    "df[\"取引時点\"]"
   ]
  },
  {
   "cell_type": "code",
   "execution_count": 70,
   "id": "c8cd86ed-637e-4443-8a6a-a56ccb893974",
   "metadata": {},
   "outputs": [
    {
     "data": {
      "text/html": [
       "<div>\n",
       "<style scoped>\n",
       "    .dataframe tbody tr th:only-of-type {\n",
       "        vertical-align: middle;\n",
       "    }\n",
       "\n",
       "    .dataframe tbody tr th {\n",
       "        vertical-align: top;\n",
       "    }\n",
       "\n",
       "    .dataframe thead th {\n",
       "        text-align: right;\n",
       "    }\n",
       "</style>\n",
       "<table border=\"1\" class=\"dataframe\">\n",
       "  <thead>\n",
       "    <tr style=\"text-align: right;\">\n",
       "      <th></th>\n",
       "      <th>市区町村コード</th>\n",
       "      <th>最寄駅：距離（分）</th>\n",
       "      <th>面積（㎡）</th>\n",
       "      <th>建築年</th>\n",
       "      <th>建ぺい率（％）</th>\n",
       "      <th>容積率（％）</th>\n",
       "      <th>取引時点</th>\n",
       "      <th>取引価格（総額）_log</th>\n",
       "    </tr>\n",
       "  </thead>\n",
       "  <tbody>\n",
       "    <tr>\n",
       "      <th>count</th>\n",
       "      <td>637351.000000</td>\n",
       "      <td>614306.000000</td>\n",
       "      <td>637351.000000</td>\n",
       "      <td>619117.000000</td>\n",
       "      <td>614848.000000</td>\n",
       "      <td>614848.000000</td>\n",
       "      <td>637351.000000</td>\n",
       "      <td>637351.000000</td>\n",
       "    </tr>\n",
       "    <tr>\n",
       "      <th>mean</th>\n",
       "      <td>18513.985300</td>\n",
       "      <td>11.731487</td>\n",
       "      <td>58.663570</td>\n",
       "      <td>25.959221</td>\n",
       "      <td>67.601944</td>\n",
       "      <td>301.601876</td>\n",
       "      <td>2013.633153</td>\n",
       "      <td>7.217424</td>\n",
       "    </tr>\n",
       "    <tr>\n",
       "      <th>std</th>\n",
       "      <td>9596.722442</td>\n",
       "      <td>12.197090</td>\n",
       "      <td>26.712019</td>\n",
       "      <td>11.431670</td>\n",
       "      <td>10.402295</td>\n",
       "      <td>148.105400</td>\n",
       "      <td>3.884546</td>\n",
       "      <td>0.353935</td>\n",
       "    </tr>\n",
       "    <tr>\n",
       "      <th>min</th>\n",
       "      <td>1101.000000</td>\n",
       "      <td>0.000000</td>\n",
       "      <td>10.000000</td>\n",
       "      <td>1.000000</td>\n",
       "      <td>30.000000</td>\n",
       "      <td>50.000000</td>\n",
       "      <td>2005.750000</td>\n",
       "      <td>2.653213</td>\n",
       "    </tr>\n",
       "    <tr>\n",
       "      <th>25%</th>\n",
       "      <td>13106.000000</td>\n",
       "      <td>5.000000</td>\n",
       "      <td>45.000000</td>\n",
       "      <td>17.000000</td>\n",
       "      <td>60.000000</td>\n",
       "      <td>200.000000</td>\n",
       "      <td>2010.500000</td>\n",
       "      <td>7.000000</td>\n",
       "    </tr>\n",
       "    <tr>\n",
       "      <th>50%</th>\n",
       "      <td>14104.000000</td>\n",
       "      <td>8.000000</td>\n",
       "      <td>65.000000</td>\n",
       "      <td>25.000000</td>\n",
       "      <td>60.000000</td>\n",
       "      <td>200.000000</td>\n",
       "      <td>2013.750000</td>\n",
       "      <td>7.255273</td>\n",
       "    </tr>\n",
       "    <tr>\n",
       "      <th>75%</th>\n",
       "      <td>27114.000000</td>\n",
       "      <td>14.000000</td>\n",
       "      <td>75.000000</td>\n",
       "      <td>34.000000</td>\n",
       "      <td>80.000000</td>\n",
       "      <td>400.000000</td>\n",
       "      <td>2016.990000</td>\n",
       "      <td>7.447158</td>\n",
       "    </tr>\n",
       "    <tr>\n",
       "      <th>max</th>\n",
       "      <td>47213.000000</td>\n",
       "      <td>120.000000</td>\n",
       "      <td>2000.000000</td>\n",
       "      <td>75.000000</td>\n",
       "      <td>80.000000</td>\n",
       "      <td>1300.000000</td>\n",
       "      <td>2019.990000</td>\n",
       "      <td>9.934498</td>\n",
       "    </tr>\n",
       "  </tbody>\n",
       "</table>\n",
       "</div>"
      ],
      "text/plain": [
       "             市区町村コード      最寄駅：距離（分）          面積（㎡）            建築年  \\\n",
       "count  637351.000000  614306.000000  637351.000000  619117.000000   \n",
       "mean    18513.985300      11.731487      58.663570      25.959221   \n",
       "std      9596.722442      12.197090      26.712019      11.431670   \n",
       "min      1101.000000       0.000000      10.000000       1.000000   \n",
       "25%     13106.000000       5.000000      45.000000      17.000000   \n",
       "50%     14104.000000       8.000000      65.000000      25.000000   \n",
       "75%     27114.000000      14.000000      75.000000      34.000000   \n",
       "max     47213.000000     120.000000    2000.000000      75.000000   \n",
       "\n",
       "             建ぺい率（％）         容積率（％）           取引時点   取引価格（総額）_log  \n",
       "count  614848.000000  614848.000000  637351.000000  637351.000000  \n",
       "mean       67.601944     301.601876    2013.633153       7.217424  \n",
       "std        10.402295     148.105400       3.884546       0.353935  \n",
       "min        30.000000      50.000000    2005.750000       2.653213  \n",
       "25%        60.000000     200.000000    2010.500000       7.000000  \n",
       "50%        60.000000     200.000000    2013.750000       7.255273  \n",
       "75%        80.000000     400.000000    2016.990000       7.447158  \n",
       "max        80.000000    1300.000000    2019.990000       9.934498  "
      ]
     },
     "execution_count": 70,
     "metadata": {},
     "output_type": "execute_result"
    }
   ],
   "source": [
    "df.describe()"
   ]
  },
  {
   "cell_type": "code",
   "execution_count": 82,
   "id": "d4fa6099-a5dd-4119-b08c-ff9f9693c3bd",
   "metadata": {},
   "outputs": [
    {
     "data": {
      "image/png": "[encoded data removed]",
      "text/plain": [
       "<Figure size 1440x720 with 4 Axes>"
      ]
     },
     "metadata": {
      "needs_background": "light"
     },
     "output_type": "display_data"
    }
   ],
   "source": [
    "fig, axes = plt.subplots(2, 2, figsize=(20,10))\n",
    "axes[0][0].hist(df[\"最寄駅：距離（分）\"], bins=20)\n",
    "axes[0][1].hist(df[\"面積（㎡）\"], bins=200)\n",
    "axes[0][1].set_xlim(0,250)\n",
    "axes[1][0].hist(df[\"建築年\"], bins=20)\n",
    "axes[1][1].hist(df[\"取引価格（総額）_log\"], bins=20)\n",
    "plt.show()"
   ]
  },
  {
   "cell_type": "code",
   "execution_count": 86,
   "id": "6c49fede-ae66-47ab-9eac-8646a8a133a6",
   "metadata": {},
   "outputs": [
    {
     "data": {
      "text/plain": [
       "<matplotlib.collections.PathCollection at 0x11c9777f0>"
      ]
     },
     "execution_count": 86,
     "metadata": {},
     "output_type": "execute_result"
    },
    {
     "data": {
      "image/png": "[encoded data removed]",
      "text/plain": [
       "<Figure size 432x288 with 1 Axes>"
      ]
     },
     "metadata": {
      "needs_background": "light"
     },
     "output_type": "display_data"
    }
   ],
   "source": [
    "plt.scatter(df[\"最寄駅：距離（分）\"],df[\"取引価格（総額）_log\"], alpha=0.1)"
   ]
  },
  {
   "cell_type": "code",
   "execution_count": 87,
   "id": "dbfe76df-d7ad-4b4f-8262-676b3b39c336",
   "metadata": {},
   "outputs": [
    {
     "data": {
      "image/png": "[encoded data removed]",
      "text/plain": [
       "<Figure size 720x720 with 3 Axes>"
      ]
     },
     "metadata": {
      "needs_background": "light"
     },
     "output_type": "display_data"
    }
   ],
   "source": [
    "fig, axes = plt.subplots(3, 1, figsize=(10,10))\n",
    "axes[0].scatter(df[\"最寄駅：距離（分）\"],df[\"取引価格（総額）_log\"], alpha=0.1)\n",
    "axes[1].scatter(df[\"面積（㎡）\"],df[\"取引価格（総額）_log\"], alpha=0.1)\n",
    "axes[2].scatter(df[\"建築年\"],df[\"取引価格（総額）_log\"], alpha=0.1)\n",
    "plt.show()"
   ]
  },
  {
   "cell_type": "code",
   "execution_count": 91,
   "id": "fed09635-17c0-442b-bb69-a5a65ade7ad1",
   "metadata": {},
   "outputs": [
    {
     "data": {
      "text/html": [
       "<div>\n",
       "<style scoped>\n",
       "    .dataframe tbody tr th:only-of-type {\n",
       "        vertical-align: middle;\n",
       "    }\n",
       "\n",
       "    .dataframe tbody tr th {\n",
       "        vertical-align: top;\n",
       "    }\n",
       "\n",
       "    .dataframe thead th {\n",
       "        text-align: right;\n",
       "    }\n",
       "</style>\n",
       "<table border=\"1\" class=\"dataframe\">\n",
       "  <thead>\n",
       "    <tr style=\"text-align: right;\">\n",
       "      <th></th>\n",
       "      <th>取引価格（総額）_log</th>\n",
       "      <th>最寄駅：距離（分）</th>\n",
       "      <th>面積（㎡）</th>\n",
       "      <th>建築年</th>\n",
       "    </tr>\n",
       "  </thead>\n",
       "  <tbody>\n",
       "    <tr>\n",
       "      <th>取引価格（総額）_log</th>\n",
       "      <td>1.000000</td>\n",
       "      <td>-0.215520</td>\n",
       "      <td>0.382755</td>\n",
       "      <td>-0.541508</td>\n",
       "    </tr>\n",
       "    <tr>\n",
       "      <th>最寄駅：距離（分）</th>\n",
       "      <td>-0.215520</td>\n",
       "      <td>1.000000</td>\n",
       "      <td>0.151880</td>\n",
       "      <td>0.118339</td>\n",
       "    </tr>\n",
       "    <tr>\n",
       "      <th>面積（㎡）</th>\n",
       "      <td>0.382755</td>\n",
       "      <td>0.151880</td>\n",
       "      <td>1.000000</td>\n",
       "      <td>-0.067965</td>\n",
       "    </tr>\n",
       "    <tr>\n",
       "      <th>建築年</th>\n",
       "      <td>-0.541508</td>\n",
       "      <td>0.118339</td>\n",
       "      <td>-0.067965</td>\n",
       "      <td>1.000000</td>\n",
       "    </tr>\n",
       "  </tbody>\n",
       "</table>\n",
       "</div>"
      ],
      "text/plain": [
       "              取引価格（総額）_log  最寄駅：距離（分）     面積（㎡）       建築年\n",
       "取引価格（総額）_log      1.000000  -0.215520  0.382755 -0.541508\n",
       "最寄駅：距離（分）        -0.215520   1.000000  0.151880  0.118339\n",
       "面積（㎡）             0.382755   0.151880  1.000000 -0.067965\n",
       "建築年              -0.541508   0.118339 -0.067965  1.000000"
      ]
     },
     "execution_count": 91,
     "metadata": {},
     "output_type": "execute_result"
    }
   ],
   "source": [
    "df[[\"取引価格（総額）_log\", \"最寄駅：距離（分）\", \"面積（㎡）\", \"建築年\"]].corr() #変数(価格以外)の相関係数をチェック、高くないか"
   ]
  },
  {
   "cell_type": "code",
   "execution_count": 93,
   "id": "0caeeefd-2e97-495e-9999-0ab485d6a259",
   "metadata": {},
   "outputs": [
    {
     "name": "stderr",
     "output_type": "stream",
     "text": [
      "/Users/shota/.pyenv/versions/3.9.4/lib/python3.9/site-packages/matplotlib/backends/backend_agg.py:240: RuntimeWarning: Glyph 8722 missing from current font.\n",
      "  font.set_text(s, 0.0, flags=flags)\n",
      "/Users/shota/.pyenv/versions/3.9.4/lib/python3.9/site-packages/matplotlib/backends/backend_agg.py:203: RuntimeWarning: Glyph 8722 missing from current font.\n",
      "  font.set_text(s, 0, flags=flags)\n"
     ]
    },
    {
     "data": {
      "text/plain": [
       "<AxesSubplot:>"
      ]
     },
     "execution_count": 93,
     "metadata": {},
     "output_type": "execute_result"
    },
    {
     "data": {
      "image/png": "[encoded data removed]",
      "text/plain": [
       "<Figure size 432x288 with 2 Axes>"
      ]
     },
     "metadata": {
      "needs_background": "light"
     },
     "output_type": "display_data"
    }
   ],
   "source": [
    "import matplotlib\n",
    "matplotlib.rcParams[\"font.family\"] = \"AppleGothic\"\n",
    "sns.heatmap(df[[\"取引価格（総額）_log\", \"最寄駅：距離（分）\", \"面積（㎡）\", \"建築年\"]].corr())"
   ]
  },
  {
   "cell_type": "code",
   "execution_count": 100,
   "id": "a5dafb1d-619a-413b-ac4e-e16cd78a3685",
   "metadata": {},
   "outputs": [],
   "source": [
    "df[\"取引年\"] = df[\"取引時点\"].apply(lambda x:str(x)[:4])"
   ]
  },
  {
   "cell_type": "code",
   "execution_count": 103,
   "id": "e11d47ee-b478-4da4-b015-a3d853146204",
   "metadata": {},
   "outputs": [
    {
     "name": "stderr",
     "output_type": "stream",
     "text": [
      "/Users/shota/.pyenv/versions/3.9.4/lib/python3.9/site-packages/seaborn/_decorators.py:36: FutureWarning: Pass the following variable as a keyword arg: x. From version 0.12, the only valid positional argument will be `data`, and passing other arguments without an explicit keyword will result in an error or misinterpretation.\n",
      "  warnings.warn(\n",
      "/Users/shota/.pyenv/versions/3.9.4/lib/python3.9/site-packages/seaborn/_decorators.py:36: FutureWarning: Pass the following variable as a keyword arg: x. From version 0.12, the only valid positional argument will be `data`, and passing other arguments without an explicit keyword will result in an error or misinterpretation.\n",
      "  warnings.warn(\n"
     ]
    },
    {
     "data": {
      "text/plain": [
       "<AxesSubplot:xlabel='取引時点', ylabel='count'>"
      ]
     },
     "execution_count": 103,
     "metadata": {},
     "output_type": "execute_result"
    },
    {
     "data": {
      "image/png": "[encoded data removed]",
      "text/plain": [
       "<Figure size 1440x720 with 2 Axes>"
      ]
     },
     "metadata": {
      "needs_background": "light"
     },
     "output_type": "display_data"
    }
   ],
   "source": [
    "fig, axes = plt.subplots(2, 1, figsize=(20,10))\n",
    "sns.countplot(\"取引年\", data=df.sort_values(\"取引年\"), ax=axes[0])\n",
    "sns.countplot(\"取引時点\", data=df, ax=axes[1])"
   ]
  },
  {
   "cell_type": "code",
   "execution_count": null,
   "id": "490fe43b-9be8-4af6-ae91-1df200497ff2",
   "metadata": {},
   "outputs": [],
   "source": []
  },
  {
   "cell_type": "code",
   "execution_count": null,
   "id": "952d1745-efe7-4ac3-849d-85ff0112f6aa",
   "metadata": {},
   "outputs": [],
   "source": []
  },
  {
   "cell_type": "code",
   "execution_count": null,
   "id": "d7dd83b1-5bde-467b-9490-a6d5fd692ff8",
   "metadata": {},
   "outputs": [],
   "source": []
  },
  {
   "cell_type": "code",
   "execution_count": null,
   "id": "bc539b2c-1e0c-423d-ad41-03e8822a15f3",
   "metadata": {},
   "outputs": [],
   "source": []
  },
  {
   "cell_type": "code",
   "execution_count": null,
   "id": "08944495-9662-42ed-8060-c066405874d3",
   "metadata": {},
   "outputs": [],
   "source": []
  }
 ],
 "metadata": {
  "kernelspec": {
   "display_name": "Python 3",
   "language": "python",
   "name": "python3"
  },
  "language_info": {
   "codemirror_mode": {
    "name": "ipython",
    "version": 3
   },
   "file_extension": ".py",
   "mimetype": "text/x-python",
   "name": "python",
   "nbconvert_exporter": "python",
   "pygments_lexer": "ipython3",
   "version": "3.9.4"
  }
 },
 "nbformat": 4,
 "nbformat_minor": 5
}
